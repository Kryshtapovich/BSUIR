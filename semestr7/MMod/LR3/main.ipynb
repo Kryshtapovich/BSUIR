{
  "cells": [
    {
      "cell_type": "markdown",
      "metadata": {},
      "source": [
        "## LR3"
      ]
    },
    {
      "cell_type": "code",
      "execution_count": null,
      "metadata": {},
      "outputs": [],
      "source": [
        "import math\n",
        "import random as r\n",
        "import numpy as np\n",
        "import scipy.stats as st\n",
        "import scipy.integrate as _in\n",
        "import matplotlib.pyplot as plt"
      ]
    },
    {
      "cell_type": "markdown",
      "metadata": {},
      "source": [
        "### Task 1\n",
        "$f(x,y) = {16 \\over 9} (x + {y^3 \\over 4}), 0 \\le x, y \\le 1 $"
      ]
    },
    {
      "cell_type": "markdown",
      "metadata": {},
      "source": [
        "$f_X(x) = \\int_{0}^{1} {16 \\over 9} (x + {y^3 \\over 4})dy = {16x + 1 \\over 9}$\n",
        "\\\n",
        "\\\n",
        "$MX = \\int_{0}^{1} xf(x)dx = {35 \\over 54} \\approx 0,648$"
      ]
    },
    {
      "cell_type": "markdown",
      "metadata": {},
      "source": [
        "$f_Y(y) = \\int_{0}^{1} {16 \\over 9} (x + {y^3 \\over 4})dx = {{8 + 4y^3} \\over 9}$\n",
        "\\\n",
        "\\\n",
        "$MY = \\int_{0}^{1} yf(y)dy = {8 \\over 15} = 0,5(3)$"
      ]
    },
    {
      "cell_type": "markdown",
      "metadata": {},
      "source": [
        "$MXY = \\int_{0}^{1} \\int_{0}^{1} xyf(x,y)dxdy = {46 \\over 135} = 0,3(407)$\n",
        "\\\n",
        "\\\n",
        "$KXY = MXY - MX * MY = {46 \\over 135} - {35 \\over 53} * {8 \\over 15} = {-2 \\over 405} \\approx -0,005$"
      ]
    },
    {
      "cell_type": "markdown",
      "metadata": {},
      "source": [
        "$f_X(x) * f_Y(y) = {16x + 1 \\over 9} * {{8 + 4y^3} \\over 9} = {{(16x + 1) * (8 + 4y^3)} \\over 81} \\neq f(x,y) $"
      ]
    },
    {
      "cell_type": "markdown",
      "metadata": {},
      "source": [
        "$f(x|y) = {f(x, y) \\over f_Y(y)} = {{4x + y^3} \\over {2 + y^3}}$\n",
        "\\\n",
        "\\\n",
        "$f(y|x) = {f(x, y) \\over f_X(x)} = {{16x + 16y^3} \\over {16x + 1}}$"
      ]
    },
    {
      "cell_type": "code",
      "execution_count": null,
      "metadata": {},
      "outputs": [],
      "source": [
        "mean = lambda val: sum(val) / len(val)\n",
        "meanxy = lambda x, y: sum([x[i] * y[i] for i in range(len(x))]) / len(x)\n",
        "dispersion = lambda val: sum(e ** 2 for e in val) / len(val) - mean(val) ** 2\n",
        "\n",
        "def covariance (x, y):\n",
        "    mx = mean(x)\n",
        "    my = mean(y)\n",
        "    sub_x, sub_y = [i - mx for i in x], [i - my for i in y] \n",
        "    return sum([sub_x[i] * sub_y[i] for i in range(len(sub_x))]) / (len(sub_x) - 1)\n",
        "    \n",
        "corelation = lambda x, y: covariance(x, y) / (math.sqrt(dispersion(x)) * math.sqrt(dispersion(y)))"
      ]
    },
    {
      "cell_type": "code",
      "execution_count": null,
      "metadata": {},
      "outputs": [],
      "source": [
        "fxy = lambda x, y: (16 / 9) * (x + (y ** 3) / 4)\n",
        "fx = lambda x: (16 * x + 1) / 9\n",
        "fy = lambda y: (8 + 4 * y ** 3) / 9\n",
        "\n",
        "a = 0\n",
        "b = 1\n",
        "fxy_max = fxy(b, a)\n",
        "\n",
        "N = 1_000_000\n",
        "\n",
        "x_list, y_list = [], []\n",
        "for _ in range(N):\n",
        "    while True:\n",
        "        x_, y_ = (a + r.random() * (b - a) for _ in range(2))\n",
        "        if fxy(x_, y_) > r.random() * fxy_max:\n",
        "            x_list.append(x_)\n",
        "            y_list.append(y_)\n",
        "            break"
      ]
    },
    {
      "cell_type": "code",
      "execution_count": null,
      "metadata": {},
      "outputs": [],
      "source": [
        "params = {\n",
        "    'a': a,\n",
        "    'b': b,\n",
        "    'gfun': lambda x: a,\n",
        "    'hfun': lambda x: b\n",
        "}\n",
        "\n",
        "mx_theoretical = _in.dblquad(lambda x, y: x * fxy(x,y), **params)[0]\n",
        "my_theoretical = _in.dblquad(lambda x, y: y * fxy(x,y), **params)[0]\n",
        "\n",
        "dx_theoretical = _in.dblquad(lambda x, y: (x - mx_theoretical) ** 2 * fxy(x, y), **params)[0]\n",
        "dy_theoretical = _in.dblquad(lambda x, y: (y - my_theoretical) ** 2 * fxy(x, y), **params)[0]\n",
        "\n",
        "rxy_theoretical = np.corrcoef(x_list, y_list)[0][1]\n",
        "\n",
        "mx_actual = mean(x_list)\n",
        "my_actual = mean(y_list)\n",
        "\n",
        "dx_actual = dispersion(x_list)\n",
        "dy_actual = dispersion(y_list)\n",
        "\n",
        "rxy_actual = corelation(x_list, y_list)\n",
        "\n",
        "print('Theoretical')\n",
        "print('M[X]:', mx_theoretical, '\\t', 'M[Y]:', my_theoretical)\n",
        "print('D[X]:', dx_theoretical, '\\t','D[Y]:', dy_theoretical)\n",
        "print('r[XY]:', rxy_theoretical)\n",
        "print()\n",
        "print('Actual')\n",
        "print('M[X]:', mx_actual, '\\t', 'M[Y]:', my_actual)\n",
        "print('D[X]:', dx_actual, '\\t',  'D[Y]:', dy_actual)\n",
        "print('r[XY]:', rxy_actual)"
      ]
    },
    {
      "cell_type": "code",
      "execution_count": null,
      "metadata": {},
      "outputs": [],
      "source": [
        "def confidence_interval(list, metric, confidence=0.95):\n",
        "    return st.t.interval(confidence, df=len(list)-1, loc=metric, scale=st.sem(list))\n",
        "\n",
        "interval_mx = confidence_interval(x_list, mx_actual)\n",
        "interval_my = confidence_interval(y_list, my_actual)\n",
        "\n",
        "interval_dx = confidence_interval(x_list, dx_actual)\n",
        "interval_dy = confidence_interval(y_list, dy_actual)\n",
        "\n",
        "interval_rxy = tuple(st.pearsonr(x_list, y_list))\n",
        "\n",
        "print('M[X]:', interval_mx, '\\t', 'M[Y]:', interval_my)\n",
        "print('D[X]:', interval_dx, '\\t', 'D[Y]:', interval_dy)\n",
        "print('r[XY]:', interval_rxy)"
      ]
    },
    {
      "cell_type": "code",
      "execution_count": null,
      "metadata": {},
      "outputs": [],
      "source": [
        "x_range = np.linspace(a, b, 500)\n",
        "fx_x = [fx(x) for x in x_range]\n",
        "plt.hist([x for x in x_list], density=True)\n",
        "plt.plot(x_range, fx_x)\n",
        "plt.title('X')\n",
        "plt.show()\n",
        "\n",
        "y_range = np.linspace(a, b, 500)\n",
        "fy_y = [fy(y) for y in y_range]\n",
        "plt.hist([y for y in y_list], density=True)\n",
        "plt.plot(y_range, fy_y)\n",
        "plt.title('Y')\n",
        "plt.show()"
      ]
    },
    {
      "cell_type": "markdown",
      "metadata": {},
      "source": [
        "### Task2"
      ]
    },
    {
      "cell_type": "code",
      "execution_count": null,
      "metadata": {},
      "outputs": [],
      "source": [
        "def generate_dsv(x, y, P):\n",
        "    n, m = len(x), len(y)\n",
        "    q = [sum(P[:, i]) for i in range(n)]\n",
        "    Fx = [sum(q[:k + 1]) for k in range(n)]\n",
        "\n",
        "    x_i = 0\n",
        "    e = r.random()\n",
        "    while e > Fx[x_i]:\n",
        "        x_i += 1\n",
        "\n",
        "    Fy = [sum(P[:k + 1, x_i]) for k in range(m)]\n",
        "\n",
        "    y_i = 0\n",
        "    e = r.random() * max(Fy)\n",
        "    while e > Fy[y_i]:\n",
        "        y_i += 1\n",
        "        \n",
        "    return x[x_i], y[y_i]"
      ]
    },
    {
      "cell_type": "code",
      "execution_count": null,
      "metadata": {},
      "outputs": [],
      "source": [
        "x = [1, 2, 3, 4, 5]\n",
        "y = [6, 7, 8, 9, 10]\n",
        "\n",
        "n = len(x)\n",
        "m = len(y)\n",
        "\n",
        "P = np.array(\n",
        "    [[0.05, 0.01, 0.05, 0.03, 0.10],\n",
        "     [0.09, 0.03, 0.06, 0.14, 0.04],\n",
        "     [0.05, 0.01, 0.03, 0.01, 0.05],\n",
        "     [0.03, 0.01, 0.01, 0.03, 0.04],\n",
        "     [0.04, 0.03, 0.03, 0.02, 0.01]])\n",
        "\n",
        "generate_dsv(x, y, P)"
      ]
    },
    {
      "cell_type": "code",
      "execution_count": null,
      "metadata": {},
      "outputs": [],
      "source": [
        "N = 10000\n",
        "\n",
        "x_values = []\n",
        "y_values = [] \n",
        "\n",
        "for _ in range(N):\n",
        "    _x, _y = generate_dsv(x, y, P)\n",
        "    x_values.append(_x)\n",
        "    y_values.append(_y)"
      ]
    },
    {
      "cell_type": "code",
      "execution_count": null,
      "metadata": {},
      "outputs": [],
      "source": [
        "p_x_theoretical = [sum(P[:, i]) for i in range(n)]\n",
        "p_y_theoretical = [sum(P[j, :]) for j in range(m)]\n",
        "\n",
        "p_x_actual = [x_values.count(_x) / N for _x in x]\n",
        "p_y_actual = [y_values.count(_y) / N for _y in y]\n",
        "\n",
        "print('Theoretical')\n",
        "print('p(x):', p_x_theoretical)\n",
        "print('p(y):', p_y_theoretical)\n",
        "print()\n",
        "print('Actual')\n",
        "print('p(x):', p_x_actual)\n",
        "print('p(y):', p_y_actual)"
      ]
    },
    {
      "cell_type": "code",
      "execution_count": null,
      "metadata": {},
      "outputs": [],
      "source": [
        "def covariation(P, p_x, p_y): \n",
        "    diffs = []\n",
        "    for i in range(len(p_x)):\n",
        "        for j in range(len(p_y)):\n",
        "            diffs.append(abs(P[j, i] - p_x[i] * p_y[j]))\n",
        "    return np.average(diffs)\n",
        "\n",
        "print(covariation(P, p_x_actual, p_y_actual))"
      ]
    },
    {
      "cell_type": "code",
      "execution_count": null,
      "metadata": {},
      "outputs": [],
      "source": [
        "p_yx = np.copy(P)\n",
        "for i in range(n):\n",
        "    for j in range(m):\n",
        "        p_yx[j, i] /= p_x_actual[i]\n",
        "\n",
        "p_xy = np.copy(P)\n",
        "for i in range(n):\n",
        "    for j in range(m):\n",
        "        p_xy[j, i] /= p_y_actual[j]\n",
        "    \n",
        "print('p(y|x):', p_yx)\n",
        "print()\n",
        "print('p(x|y):', p_xy)"
      ]
    },
    {
      "cell_type": "code",
      "execution_count": null,
      "metadata": {},
      "outputs": [],
      "source": [
        "def draw_plot(data, values, probabilities, title):\n",
        "    plt.hist(values, weights=[1/N]*N)\n",
        "    plt.title(title)\n",
        "    plt.plot(data, probabilities) \n",
        "    plt.show()\n",
        "\n",
        "draw_plot(x, x_values, p_x_actual, 'X')\n",
        "draw_plot(y, y_values, p_y_actual, 'Y')"
      ]
    },
    {
      "cell_type": "code",
      "execution_count": null,
      "metadata": {},
      "outputs": [],
      "source": [
        "def discrete_mean(x, p_x):\n",
        "    return sum([x[i] * p_x[i] for i in range(len(x))])\n",
        "\n",
        "def discrete_dispersion(x, p_x, M):\n",
        "    return sum([(x[i] ** 2) * p_x[i] for i in range(len(x))]) - M ** 2\n",
        "\n",
        "def discrete_corelation(x, y, mx, my):\n",
        "    numerator = sum((_x - mx) * (_y - my) for _x, _y in zip(x, y))\n",
        "    sum_x2 = sum((_x - mx) ** 2 for _x in x)\n",
        "    sum_y2 = sum((_y - my) ** 2 for _y in y)\n",
        "    return numerator / np.sqrt(sum_x2 * sum_y2)"
      ]
    },
    {
      "cell_type": "code",
      "execution_count": null,
      "metadata": {},
      "outputs": [],
      "source": [
        "mx_theoretical = discrete_mean(x, p_x_theoretical)\n",
        "my_theoretical = discrete_mean(y, p_y_theoretical)\n",
        "\n",
        "dx_theoretical = discrete_dispersion(x, p_x_theoretical, mx_theoretical)\n",
        "dy_theoretical = discrete_dispersion(y, p_y_theoretical, my_theoretical)\n",
        "\n",
        "mxy_theoretical = sum([sum([x * y * P[j, i] for j, y in enumerate(y)]) for i, x in enumerate(x)])\n",
        "\n",
        "rxy_theoretical = (mxy_theoretical - mx_theoretical * my_theoretical) / np.sqrt(dx_theoretical * dy_theoretical)\n",
        "\n",
        "mx_actual = discrete_mean(x, p_x_actual)\n",
        "my_actual = discrete_mean(y, p_y_actual)\n",
        "\n",
        "dx_actual = discrete_dispersion(x, p_x_actual, mx_actual)\n",
        "dy_actual = discrete_dispersion(y, p_y_actual, my_actual)\n",
        "\n",
        "rxy_actual = discrete_corelation(x_values, y_values, mx_actual, my_actual)\n",
        "\n",
        "print('Theoretical')\n",
        "print('M[X]:', mx_theoretical, '\\t', 'M[Y]:', my_theoretical)\n",
        "print('D[X]:', dx_theoretical, '\\t', 'D[Y]:', dy_theoretical)\n",
        "print('r[XY]:', rxy_theoretical)\n",
        "print()\n",
        "print('Actual')\n",
        "print('M[X]:', mx_actual, '\\t', 'M[Y]:', my_actual)\n",
        "print('D[X]:', dx_actual, '\\t', 'D[Y]:', dy_actual)\n",
        "print('r[XY]:', rxy_actual)"
      ]
    },
    {
      "cell_type": "code",
      "execution_count": null,
      "metadata": {},
      "outputs": [],
      "source": [
        "def mean(data):\n",
        "    return sum(data) / len(data)\n",
        "\n",
        "def ci_correlation(x, y, confidence=0.95):\n",
        "    r = discrete_corelation(x, y, mean(x), mean(y))\n",
        "    z = 1/2 * np.log((1 + r) / (1 - r))\n",
        "    z_crit = st.norm.ppf(1 - confidence / 2)\n",
        "    se = 1 / np.sqrt(len(x) - 3)\n",
        "    left_z, right_z = (z - z_crit * se, z + z_crit * se)\n",
        "    left, right = np.tanh(left_z), np.tanh(right_z)\n",
        "    return left, right"
      ]
    },
    {
      "cell_type": "code",
      "execution_count": null,
      "metadata": {},
      "outputs": [],
      "source": [
        "interval_mx = confidence_interval(x_values, mx_actual)\n",
        "interval_my = confidence_interval(y_values, my_actual)\n",
        "\n",
        "interval_dx = confidence_interval(x_values, dx_actual)\n",
        "interval_dy = confidence_interval(y_values, dy_actual)\n",
        "\n",
        "interval_rxy = ci_correlation(x_values, y_values)\n",
        "\n",
        "print('M[X]:', interval_mx, '\\t', 'M[Y]:', interval_my)\n",
        "print('D[X]:', interval_dx, '\\t', 'D[Y]:', interval_dy)\n",
        "print('r[XY]:', interval_rxy)"
      ]
    }
  ],
  "metadata": {
    "celltoolbar": "Отсутствует",
    "kernelspec": {
      "display_name": "Python 3.9.12 64-bit",
      "language": "python",
      "name": "python3"
    },
    "language_info": {
      "codemirror_mode": {
        "name": "ipython",
        "version": 3
      },
      "file_extension": ".py",
      "mimetype": "text/x-python",
      "name": "python",
      "nbconvert_exporter": "python",
      "pygments_lexer": "ipython3",
      "version": "3.9.12"
    },
    "vscode": {
      "interpreter": {
        "hash": "aee8b7b246df8f9039afb4144a1f6fd8d2ca17a180786b69acc140d282b71a49"
      }
    }
  },
  "nbformat": 4,
  "nbformat_minor": 4
}
